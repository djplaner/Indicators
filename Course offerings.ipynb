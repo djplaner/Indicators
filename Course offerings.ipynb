{
 "cells": [
  {
   "cell_type": "code",
   "execution_count": 95,
   "metadata": {
    "collapsed": false
   },
   "outputs": [],
   "source": [
    "import Indicators\n",
    "\n",
    "import pandas as pd\n",
    "\n",
    "engine = Indicators.connect()\n",
    "configuration = Indicators.config()\n",
    "\n",
    "prefix = configuration['mdl_prefix']"
   ]
  },
  {
   "cell_type": "code",
   "execution_count": 96,
   "metadata": {
    "collapsed": false
   },
   "outputs": [],
   "source": [
    "# Display # courses per year\n",
    "# - assume that mdl_course.shortname has a format indicating year/term\n",
    "# set up a dict variable to hold counts for each year\n",
    "yearCounts = {}\n",
    "\n",
    "for year in configuration['allYears']:\n",
    "    query = \"select count(id) from \" + prefix + \"course where \" +\\\n",
    "             \" shortname like '%%_\" + str(year) + \"_%%'\"\n",
    "    df = pd.read_sql( query, engine)\n",
    "    yearCounts[year] = df.loc[0]\n",
    "\n",
    "counts = pd.DataFrame.from_dict( yearCounts,orient='index')\n",
    "\n",
    "counts.plot(kind='bar')"
   ]
  },
  {
   "cell_type": "code",
   "execution_count": 97,
   "metadata": {
    "collapsed": false
   },
   "outputs": [],
   "source": [
    "# - get # courses per term\n",
    "# set up a dict variable to hold counts for each term\n",
    "termCounts = {}\n",
    "\n",
    "for term in configuration['allTerms']:\n",
    "    query = \"select count(id) from \" + prefix + \"course where \" +\\\n",
    "                         \" shortname like '%%_\" + term + \"%%'\"\n",
    "    df = pd.read_sql( query, engine)\n",
    "    termCounts[term] = df.loc[0]\n",
    "\n",
    "counts = pd.DataFrame.from_dict( termCounts,orient='index')\n",
    "\n",
    "counts.plot(kind='bar')\n"
   ]
  },
  {
   "cell_type": "code",
   "execution_count": null,
   "metadata": {
    "collapsed": true
   },
   "outputs": [],
   "source": []
  }
 ],
 "metadata": {
  "git": {
   "suppress_outputs": true
  },
  "kernelspec": {
   "display_name": "Python 3",
   "language": "python",
   "name": "python3"
  },
  "language_info": {
   "codemirror_mode": {
    "name": "ipython",
    "version": 3
   },
   "file_extension": ".py",
   "mimetype": "text/x-python",
   "name": "python",
   "nbconvert_exporter": "python",
   "pygments_lexer": "ipython3",
   "version": "3.4.4"
  },
  "widgets": {
   "state": {},
   "version": "1.1.2"
  }
 },
 "nbformat": 4,
 "nbformat_minor": 0
}