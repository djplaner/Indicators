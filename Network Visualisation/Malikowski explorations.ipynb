{
 "cells": [
  {
   "cell_type": "code",
   "execution_count": 1,
   "metadata": {
    "collapsed": false
   },
   "outputs": [],
   "source": [
    "# Some simple first steps\n",
    "# - initially this is just some psuedo code to be slowly refined\n",
    "\n",
    "from Malikowski.Adoption import Adoption\n",
    "\n",
    "#courses = [6082]\n",
    "#courses = []\n",
    "courses = [ 6082, 4688, 4381]\n",
    "model = Adoption()\n",
    "\n",
    "model.getCourses( courses )\n",
    "\n",
    "\n",
    "#-- get a period - year or period\n",
    "#model = Adoption.getPeriod( \"2015_1\")\n",
    "\n",
    "#-- get a list of courses\n",
    "# EDC3100: 2015_1 2014_2 2014_1\n",
    "#courses = [ 6082, 4688, 4381]\n",
    "\n",
    "#-- just dump the data frame\n",
    "model.df"
   ]
  },
  {
   "cell_type": "code",
   "execution_count": 2,
   "metadata": {
    "collapsed": false
   },
   "outputs": [],
   "source": [
    "#model.malikowskiCourseDF\n",
    "\n",
    "model.malikowskiGroup"
   ]
  },
  {
   "cell_type": "code",
   "execution_count": null,
   "metadata": {
    "collapsed": false
   },
   "outputs": [],
   "source": []
  },
  {
   "cell_type": "code",
   "execution_count": null,
   "metadata": {
    "collapsed": false
   },
   "outputs": [],
   "source": []
  },
  {
   "cell_type": "code",
   "execution_count": null,
   "metadata": {
    "collapsed": true
   },
   "outputs": [],
   "source": []
  }
 ],
 "metadata": {
  "git": {
   "suppress_outputs": true
  },
  "kernelspec": {
   "display_name": "Python 3",
   "language": "python",
   "name": "python3"
  },
  "language_info": {
   "codemirror_mode": {
    "name": "ipython",
    "version": 3
   },
   "file_extension": ".py",
   "mimetype": "text/x-python",
   "name": "python",
   "nbconvert_exporter": "python",
   "pygments_lexer": "ipython3",
   "version": "3.4.4"
  },
  "widgets": {
   "state": {},
   "version": "1.1.2"
  }
 },
 "nbformat": 4,
 "nbformat_minor": 0
}