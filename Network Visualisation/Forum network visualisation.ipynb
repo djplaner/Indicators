{
 "cells": [
  {
   "cell_type": "code",
   "execution_count": 1,
   "metadata": {
    "collapsed": false
   },
   "outputs": [],
   "source": [
    "#-- need to make sure we can find Indicators\n",
    "#   - will only work on directory down\n",
    "import os\n",
    "import sys\n",
    "nb_dir = os.path.split(os.getcwd())[0]\n",
    "if nb_dir not in sys.path:\n",
    "    sys.path.append(nb_dir)\n",
    "    \n"
   ]
  },
  {
   "cell_type": "code",
   "execution_count": 2,
   "metadata": {
    "collapsed": false
   },
   "outputs": [],
   "source": [
    "import Indicators\n",
    "\n",
    "import pandas as pd\n",
    "\n",
    "engine = Indicators.connect()\n",
    "configuration = Indicators.config()\n",
    "\n",
    "prefix = configuration['mdl_prefix']"
   ]
  },
  {
   "cell_type": "code",
   "execution_count": 3,
   "metadata": {
    "collapsed": false
   },
   "outputs": [
    {
     "data": {
      "text/html": [
       "<div>\n",
       "<table border=\"1\" class=\"dataframe\">\n",
       "  <thead>\n",
       "    <tr style=\"text-align: right;\">\n",
       "      <th></th>\n",
       "      <th>id</th>\n",
       "      <th>parent</th>\n",
       "      <th>userid</th>\n",
       "      <th>created</th>\n",
       "      <th>modified</th>\n",
       "    </tr>\n",
       "  </thead>\n",
       "  <tbody>\n",
       "    <tr>\n",
       "      <th>0</th>\n",
       "      <td>1271444</td>\n",
       "      <td>1271133</td>\n",
       "      <td>14888</td>\n",
       "      <td>1415277238</td>\n",
       "      <td>1415277238</td>\n",
       "    </tr>\n",
       "    <tr>\n",
       "      <th>1</th>\n",
       "      <td>1272547</td>\n",
       "      <td>1271444</td>\n",
       "      <td>11025</td>\n",
       "      <td>1415496134</td>\n",
       "      <td>1415496134</td>\n",
       "    </tr>\n",
       "    <tr>\n",
       "      <th>2</th>\n",
       "      <td>1270797</td>\n",
       "      <td>1270054</td>\n",
       "      <td>9027</td>\n",
       "      <td>1415227652</td>\n",
       "      <td>1415227652</td>\n",
       "    </tr>\n",
       "    <tr>\n",
       "      <th>3</th>\n",
       "      <td>1269446</td>\n",
       "      <td>0</td>\n",
       "      <td>9027</td>\n",
       "      <td>1415083776</td>\n",
       "      <td>1415083776</td>\n",
       "    </tr>\n",
       "    <tr>\n",
       "      <th>4</th>\n",
       "      <td>1274475</td>\n",
       "      <td>1271444</td>\n",
       "      <td>3537</td>\n",
       "      <td>1415687595</td>\n",
       "      <td>1415687595</td>\n",
       "    </tr>\n",
       "    <tr>\n",
       "      <th>5</th>\n",
       "      <td>1271133</td>\n",
       "      <td>1270797</td>\n",
       "      <td>3537</td>\n",
       "      <td>1415247213</td>\n",
       "      <td>1415247213</td>\n",
       "    </tr>\n",
       "    <tr>\n",
       "      <th>6</th>\n",
       "      <td>1270054</td>\n",
       "      <td>1269446</td>\n",
       "      <td>3537</td>\n",
       "      <td>1415152970</td>\n",
       "      <td>1415152970</td>\n",
       "    </tr>\n",
       "  </tbody>\n",
       "</table>\n",
       "</div>"
      ],
      "text/plain": [
       "        id   parent  userid     created    modified\n",
       "0  1271444  1271133   14888  1415277238  1415277238\n",
       "1  1272547  1271444   11025  1415496134  1415496134\n",
       "2  1270797  1270054    9027  1415227652  1415227652\n",
       "3  1269446        0    9027  1415083776  1415083776\n",
       "4  1274475  1271444    3537  1415687595  1415687595\n",
       "5  1271133  1270797    3537  1415247213  1415247213\n",
       "6  1270054  1269446    3537  1415152970  1415152970"
      ]
     },
     "execution_count": 3,
     "metadata": {},
     "output_type": "execute_result"
    }
   ],
   "source": [
    "# get all the posts in a forum\n",
    "forums = [ 321198, 32199, 32127]\n",
    "\n",
    "forum = 321198;\n",
    "\n",
    "query = \"select id,parent,userid,created,modified from \" + prefix + \"forum_posts where \" +\\\n",
    "             \" discussion=\" + str(forum)\n",
    "df = pd.read_sql( query, engine)\n",
    "\n",
    "df"
   ]
  },
  {
   "cell_type": "code",
   "execution_count": null,
   "metadata": {
    "collapsed": true
   },
   "outputs": [],
   "source": []
  }
 ],
 "metadata": {
  "kernelspec": {
   "display_name": "Python 3",
   "language": "python",
   "name": "python3"
  },
  "language_info": {
   "codemirror_mode": {
    "name": "ipython",
    "version": 3
   },
   "file_extension": ".py",
   "mimetype": "text/x-python",
   "name": "python",
   "nbconvert_exporter": "python",
   "pygments_lexer": "ipython3",
   "version": "3.4.4"
  },
  "widgets": {
   "state": {},
   "version": "1.1.2"
  }
 },
 "nbformat": 4,
 "nbformat_minor": 0
}
