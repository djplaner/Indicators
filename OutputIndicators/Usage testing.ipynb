{
 "cells": [
  {
   "cell_type": "code",
   "execution_count": 1,
   "metadata": {
    "collapsed": false
   },
   "outputs": [],
   "source": [
    "import plotly\n",
    "plotly.offline.init_notebook_mode()\n",
    "\n",
    "#from Malikowski.Adoption import Adoption\n",
    "from Malikowski.AdoptionView import AdoptionView"
   ]
  },
  {
   "cell_type": "code",
   "execution_count": 2,
   "metadata": {
    "collapsed": false
   },
   "outputs": [],
   "source": [
    "from Malikowski.Usage import Usage\n",
    "\n",
    "#-- specify three moodle course ids to do some analysis with\n",
    "courses = [ 6082, 7023]\n",
    "\n",
    "model = Usage()\n",
    "model.getCourses( courses )\n",
    "\n",
    "model.malikowski"
   ]
  },
  {
   "cell_type": "code",
   "execution_count": 3,
   "metadata": {
    "collapsed": false
   },
   "outputs": [],
   "source": [
    "\n",
    "\n",
    "#-- do the analysis\n",
    "#model = Adoption()\n",
    "#model.getCourses( courses )\n",
    "\n",
    "# Display the main data structure\n",
    "# - indicates the number of examples of each Malikowski category for each course\n",
    "#model.malikowski"
   ]
  },
  {
   "cell_type": "code",
   "execution_count": 4,
   "metadata": {
    "collapsed": false
   },
   "outputs": [],
   "source": [
    "# Show a bar chart comparing the Malikowski adoption\n",
    "view = AdoptionView(model)\n",
    "view.stackedBar()"
   ]
  },
  {
   "cell_type": "markdown",
   "metadata": {
    "collapsed": false
   },
   "source": [
    "\n",
    "### Shortname usage analysis\n",
    "Now do it with shortnames"
   ]
  },
  {
   "cell_type": "code",
   "execution_count": 8,
   "metadata": {
    "collapsed": false
   },
   "outputs": [],
   "source": [
    "#-- Going to create 6 separate groups of courses for specific terms\n",
    "term = '%%_2015_2'\n",
    "\n",
    "model = Usage(term);\n",
    "model.getCoursesShortname( term )\n",
    "\n",
    "model.malikowski"
   ]
  },
  {
   "cell_type": "code",
   "execution_count": 9,
   "metadata": {
    "collapsed": false
   },
   "outputs": [],
   "source": [
    "view = AdoptionView(model)\n",
    "view.stackedBarHorizontal()"
   ]
  },
  {
   "cell_type": "code",
   "execution_count": null,
   "metadata": {
    "collapsed": true
   },
   "outputs": [],
   "source": []
  }
 ],
 "metadata": {
  "git": {
   "suppress_outputs": true
  },
  "kernelspec": {
   "display_name": "Python 3",
   "language": "python",
   "name": "python3"
  },
  "language_info": {
   "codemirror_mode": {
    "name": "ipython",
    "version": 3
   },
   "file_extension": ".py",
   "mimetype": "text/x-python",
   "name": "python",
   "nbconvert_exporter": "python",
   "pygments_lexer": "ipython3",
   "version": "3.4.4"
  },
  "widgets": {
   "state": {},
   "version": "1.1.2"
  }
 },
 "nbformat": 4,
 "nbformat_minor": 0
}