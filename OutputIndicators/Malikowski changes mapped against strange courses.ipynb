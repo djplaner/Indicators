{
 "cells": [
  {
   "cell_type": "markdown",
   "metadata": {},
   "source": [
    "# Category usage by groups of strange courses\n",
    "\n",
    "The idea is that differences in course design may indicate different conceptions of learning and teaching. Rather than explore all courses, what happens when we examine particular groups of courses?\n",
    "\n",
    "Last year when analysing usage of the Moodle Book module I identified a collection of [strange courses](http://djon.es/blog/2016/09/26/exploring-moodle-book-usage-part-9-strange-courses/) with categories such as, courses with\n",
    "\n",
    "- huge books\n",
    "- high number of book revisions\n",
    "- many books\n",
    "\n",
    "The aim here is to use the Malikowski categories to see if this \"strangeness\" is copied in any other LMS feature usage. In part, because I've already identified the course ids for these courses.\n",
    "\n",
    "**Note:** This will be much better once the Malikowski categories are done using actual usage, rather than just adoption. RSN."
   ]
  },
  {
   "cell_type": "markdown",
   "metadata": {},
   "source": [
    "## Support code"
   ]
  },
  {
   "cell_type": "code",
   "execution_count": 1,
   "metadata": {
    "collapsed": false
   },
   "outputs": [],
   "source": [
    "import plotly\n",
    "plotly.offline.init_notebook_mode()\n",
    "\n",
    "from Malikowski.Adoption import Adoption\n",
    "from Malikowski.AdoptionView import AdoptionView\n",
    "\n",
    "#-- using this to keep the course ids away from public view\n",
    "from Strange import Strange"
   ]
  },
  {
   "cell_type": "markdown",
   "metadata": {},
   "source": [
    "## Many revisions"
   ]
  },
  {
   "cell_type": "code",
   "execution_count": 2,
   "metadata": {
    "collapsed": false
   },
   "outputs": [],
   "source": [
    "model = Adoption()\n",
    "model.getCourses( Strange.revisions)\n",
    "\n",
    "view = AdoptionView(model)\n",
    "view.stackedBarHorizontal()"
   ]
  },
  {
   "cell_type": "markdown",
   "metadata": {},
   "source": [
    "## Big books\n",
    "\n",
    "The two offerings **EAP7308** stand out in the following. Huge numbers of assessment, perhaps indicating some problem, such as\n",
    "\n",
    "- Not a real course\n",
    "- An issue with the malikowski analysis not ignoring hidden features (wonder if all hidden features should be ignored?)"
   ]
  },
  {
   "cell_type": "code",
   "execution_count": 3,
   "metadata": {
    "collapsed": false
   },
   "outputs": [],
   "source": [
    "model.getCourses( Strange.big)\n",
    "\n",
    "view = AdoptionView(model)\n",
    "view.stackedBarHorizontal()"
   ]
  },
  {
   "cell_type": "markdown",
   "metadata": {},
   "source": [
    "## Many books\n",
    "\n",
    "The courses that I teach (EDC3100) are somewhat complex, there's a lot in them. However, some of the courses in these lists have much more in them. Suggesting that they may be even more complex?\n",
    "\n",
    "Content transmission includes labels, this numbers might suggest a lot of use of labels. Which in itself might be a minor alarm bell (too much on the course page, rather than in activities)"
   ]
  },
  {
   "cell_type": "code",
   "execution_count": 4,
   "metadata": {
    "collapsed": false
   },
   "outputs": [],
   "source": [
    "model.getCourses( Strange.many)\n",
    "\n",
    "view = AdoptionView(model)\n",
    "view.stackedBarHorizontal()"
   ]
  },
  {
   "cell_type": "markdown",
   "metadata": {},
   "source": [
    "## Education core courses\n",
    "As a quick comparison/test, the following is looking at the small number of courses (and their multiple offerings) that are core to the teacher education program"
   ]
  },
  {
   "cell_type": "code",
   "execution_count": 5,
   "metadata": {
    "collapsed": false
   },
   "outputs": [],
   "source": [
    "import pandas as pd\n",
    "\n",
    "query = \"select id from moodle.mdl_course where shortname like 'EDC1%%_'\"\n",
    "courseList = pd.read_sql(query,model.engine)\n",
    "\n",
    "ids = courseList.id.tolist()\n",
    "newModel = Adoption()\n",
    "newModel.getCourses(ids)\n",
    "\n",
    "view = AdoptionView(newModel)\n",
    "view.stackedBarHorizontal()"
   ]
  },
  {
   "cell_type": "code",
   "execution_count": null,
   "metadata": {
    "collapsed": true
   },
   "outputs": [],
   "source": []
  }
 ],
 "metadata": {
  "git": {
   "suppress_outputs": true
  },
  "kernelspec": {
   "display_name": "Python 3",
   "language": "python",
   "name": "python3"
  },
  "language_info": {
   "codemirror_mode": {
    "name": "ipython",
    "version": 3
   },
   "file_extension": ".py",
   "mimetype": "text/x-python",
   "name": "python",
   "nbconvert_exporter": "python",
   "pygments_lexer": "ipython3",
   "version": "3.4.4"
  },
  "widgets": {
   "state": {},
   "version": "1.1.2"
  }
 },
 "nbformat": 4,
 "nbformat_minor": 0
}