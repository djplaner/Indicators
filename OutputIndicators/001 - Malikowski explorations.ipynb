{
 "cells": [
  {
   "cell_type": "markdown",
   "metadata": {},
   "source": [
    "## Getting started\n",
    "This notebook is an initial starting point for using the Malikowski related notebooks. It includes a number of relatively simple and fast analysis (becaues they only use 3 courses, rather than large groups of courses) using the Malikowski classes to test and illustrate what is possible."
   ]
  },
  {
   "cell_type": "code",
   "execution_count": 1,
   "metadata": {
    "collapsed": false
   },
   "outputs": [],
   "source": [
    "import plotly\n",
    "plotly.offline.init_notebook_mode()\n",
    "\n",
    "from Malikowski.Adoption import Adoption\n",
    "from Malikowski.AdoptionView import AdoptionView"
   ]
  },
  {
   "cell_type": "markdown",
   "metadata": {},
   "source": [
    "### Adoption analysis\n",
    "The simplest form of analysis simply counts the number of features within a given course site. It was useful to get the process going, but its value is very limited."
   ]
  },
  {
   "cell_type": "code",
   "execution_count": 2,
   "metadata": {
    "collapsed": false
   },
   "outputs": [],
   "source": [
    "#-- specify three moodle course ids to do some analysis with\n",
    "courses = [ 6082, 4688, 4381]\n",
    "\n",
    "#-- do the analysis\n",
    "model = Adoption()\n",
    "model.getCourses( courses )\n",
    "\n",
    "# Display the main data structure\n",
    "# - indicates the number of examples of each Malikowski category for each course\n",
    "model.malikowski"
   ]
  },
  {
   "cell_type": "code",
   "execution_count": 3,
   "metadata": {
    "collapsed": false
   },
   "outputs": [],
   "source": [
    "model.anonymiseCourseNames()\n",
    "model.malikowski"
   ]
  },
  {
   "cell_type": "code",
   "execution_count": 4,
   "metadata": {
    "collapsed": false
   },
   "outputs": [],
   "source": [
    "# Show a bar chart comparing the Malikowski adoption\n",
    "view = AdoptionView(model)\n",
    "view.stackedBar()"
   ]
  },
  {
   "cell_type": "code",
   "execution_count": 9,
   "metadata": {
    "collapsed": false
   },
   "outputs": [],
   "source": [
    "model = Usage()\n",
    "model.getCourses(courses)\n",
    "view = AdoptionView(model)\n",
    "view.stackedBar()"
   ]
  },
  {
   "cell_type": "code",
   "execution_count": 5,
   "metadata": {
    "collapsed": false
   },
   "outputs": [],
   "source": [
    "# show a different view of the same data\n",
    "view.stackedBarHorizontal()\n",
    "model.getCourses( courses )"
   ]
  },
  {
   "cell_type": "markdown",
   "metadata": {
    "collapsed": false
   },
   "source": [
    "\n",
    "### Usage analysis\n",
    "Given limitations of the adoption analysis, the next step is to develop usage analysis. i.e. count the number of events performed by students (and perhaps eventually) staff with each of the Malikowski categories.\n",
    "\n",
    "The aim is that the fundamental approach to doing this analysis is exactly the same as with Adoption, just using the *Usage* class, instead of *Adoption*"
   ]
  },
  {
   "cell_type": "code",
   "execution_count": 6,
   "metadata": {
    "collapsed": false
   },
   "outputs": [],
   "source": [
    "from Malikowski.Usage import Usage\n",
    "\n",
    "model = Usage()\n",
    "model.getCourses( courses )\n",
    "\n",
    "model.malikowski"
   ]
  },
  {
   "cell_type": "code",
   "execution_count": null,
   "metadata": {
    "collapsed": true
   },
   "outputs": [],
   "source": []
  }
 ],
 "metadata": {
  "git": {
   "suppress_outputs": true
  },
  "kernelspec": {
   "display_name": "Python 3",
   "language": "python",
   "name": "python3"
  },
  "language_info": {
   "codemirror_mode": {
    "name": "ipython",
    "version": 3
   },
   "file_extension": ".py",
   "mimetype": "text/x-python",
   "name": "python",
   "nbconvert_exporter": "python",
   "pygments_lexer": "ipython3",
   "version": "3.4.4"
  },
  "widgets": {
   "state": {},
   "version": "1.1.2"
  }
 },
 "nbformat": 4,
 "nbformat_minor": 0
}