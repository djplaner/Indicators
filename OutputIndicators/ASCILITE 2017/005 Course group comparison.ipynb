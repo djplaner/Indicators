{
 "cells": [
  {
   "cell_type": "markdown",
   "metadata": {},
   "source": [
    "## About\n",
    "\n",
    "Have gone from broad comparisons between years down to comparison of course signatures (and perhaps examination of individual student clicks per course)\n",
    "\n",
    "The aim here is to examine the differences between groups of courses using course signatures (and perhaps individual) student clicks\n",
    "\n",
    "The idea is that rather than simply compare courses from different years, identify theoretical (or otherwise) interesting groups of courses and compare them, some possibilities\n",
    "\n",
    "- 1st year versus 3rd year courses\n",
    "- Courses with high SELT scores versus those with low\n",
    "- Courses with high staff participation versus low staff participation\n",
    "- Courses taught by specific individuals\n",
    "\n",
    "This is perhaps where performing t-tests between the different groups of courses might provide some interesting stats."
   ]
  },
  {
   "cell_type": "code",
   "execution_count": 3,
   "metadata": {
    "collapsed": false
   },
   "outputs": [],
   "source": [
    "## get the necessary modules\n",
    "import plotly\n",
    "plotly.offline.init_notebook_mode()\n",
    "\n",
    "from Malikowski.Usage import Usage\n",
    "from Malikowski.AdoptionView import AdoptionView\n",
    "\n",
    "import pandas as pd\n"
   ]
  },
  {
   "cell_type": "code",
   "execution_count": 4,
   "metadata": {
    "collapsed": true
   },
   "outputs": [],
   "source": [
    "## get course ids for different groups of students\n",
    "#  - this approach assumes that a python class has been created with data members for\n",
    "#    different groups of courses\n",
    "#    - revisions = [ list of course ids]\n",
    "#    - many = [ list of course ids]\n",
    "#    - bookImport = [ list of course ids]\n",
    "\n",
    "from Strange import Strange"
   ]
  },
  {
   "cell_type": "code",
   "execution_count": 7,
   "metadata": {
    "collapsed": false
   },
   "outputs": [],
   "source": [
    "## Do the usage adoption comparison, but could do others\n",
    "\n",
    "\n",
    "courseGroups = []\n",
    "    \n",
    "#-- add many revisions\n",
    "print(\"many revisions\")\n",
    "model = Usage(\"Many Revisions\");\n",
    "model.getCourses( Strange.revisions )    \n",
    "model.addStudents()\n",
    "model.clicksPerStudent()\n",
    "courseGroups.append( model)\n",
    "\n",
    "#-- add many revisions\n",
    "print(\"big books\")\n",
    "model = Usage(\"Big books\");\n",
    "model.getCourses( Strange.big )    \n",
    "model.addStudents()\n",
    "model.clicksPerStudent()\n",
    "courseGroups.append( model)\n",
    "\n",
    "#-- add many revisions\n",
    "print(\"many books\")\n",
    "model = Usage(\"Many books\");\n",
    "model.getCourses( Strange.many )    \n",
    "model.addStudents()\n",
    "model.clicksPerStudent()\n",
    "courseGroups.append( model)\n",
    "\n",
    "#-- education core courses - actually get the course ids from here\n",
    "print(\"edc courses\")\n",
    "query = \"select id from moodle.mdl_course where shortname like 'EDC%%_2015_2'\"\n",
    "courseList = pd.read_sql(query,model.engine)\n",
    "\n",
    "ids = courseList.id.tolist()\n",
    "model = Usage(\"EDC\")\n",
    "model.getCourses(ids)\n",
    "model.addStudents()\n",
    "model.clicksPerStudent()\n",
    "courseGroups.append( model)\n",
    "\n",
    "\n",
    "view = AdoptionView()"
   ]
  },
  {
   "cell_type": "code",
   "execution_count": 10,
   "metadata": {
    "collapsed": false
   },
   "outputs": [],
   "source": [
    "# content\n",
    "category = { 'content':1, }\n",
    "view.listCategoryComparison( courseGroups, category)"
   ]
  },
  {
   "cell_type": "markdown",
   "metadata": {},
   "source": [
    "## Observations - Content"
   ]
  },
  {
   "cell_type": "code",
   "execution_count": 11,
   "metadata": {
    "collapsed": false
   },
   "outputs": [],
   "source": [
    "# communication\n",
    "category = { 'communication':1, }\n",
    "view.listCategoryComparison( courseGroups, category)"
   ]
  },
  {
   "cell_type": "markdown",
   "metadata": {},
   "source": [
    "## Observations - Communication"
   ]
  },
  {
   "cell_type": "code",
   "execution_count": 12,
   "metadata": {
    "collapsed": false
   },
   "outputs": [],
   "source": [
    "# assessment\n",
    "category = { 'assessment':1, }\n",
    "view.listCategoryComparison( courseGroups, category)"
   ]
  },
  {
   "cell_type": "markdown",
   "metadata": {},
   "source": [
    "## Observations - assessment"
   ]
  },
  {
   "cell_type": "code",
   "execution_count": 13,
   "metadata": {
    "collapsed": false
   },
   "outputs": [],
   "source": [
    "# cbi\n",
    "category = { 'cbi':1, }\n",
    "view.listCategoryComparison( courseGroups, category)"
   ]
  },
  {
   "cell_type": "markdown",
   "metadata": {},
   "source": [
    "## Observations - cbi"
   ]
  },
  {
   "cell_type": "code",
   "execution_count": null,
   "metadata": {
    "collapsed": true
   },
   "outputs": [],
   "source": []
  }
 ],
 "metadata": {
  "git": {
   "suppress_outputs": true
  },
  "kernelspec": {
   "display_name": "Python 3",
   "language": "python",
   "name": "python3"
  },
  "language_info": {
   "codemirror_mode": {
    "name": "ipython",
    "version": 3
   },
   "file_extension": ".py",
   "mimetype": "text/x-python",
   "name": "python",
   "nbconvert_exporter": "python",
   "pygments_lexer": "ipython3",
   "version": "3.4.4"
  },
  "widgets": {
   "state": {},
   "version": "1.1.2"
  }
 },
 "nbformat": 4,
 "nbformat_minor": 0
}