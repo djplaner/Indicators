{
 "cells": [
  {
   "cell_type": "markdown",
   "metadata": {},
   "source": [
    "## About\n",
    "Aim here is to recreate (and improve) the graphs produced in [the original Indicators paper](https://indicatorsproject.wordpress.com/2009/10/09/the-indicators-project-identifying-effective-learning-adoption-activity-grades-and-external-factors/) that allow comparison of LMS feature adoption longitudinally across a number of years using the Malikowski model.\n",
    "\n",
    "The intent is to create graphs that \n",
    "\n",
    "1. For each Malikowski category, shows the % of courses each year adopting that feature"
   ]
  },
  {
   "cell_type": "code",
   "execution_count": 1,
   "metadata": {
    "collapsed": false
   },
   "outputs": [],
   "source": [
    "## get the necessary modules\n",
    "import plotly\n",
    "plotly.offline.init_notebook_mode()\n",
    "\n",
    "from Malikowski.Adoption import Adoption\n",
    "from Malikowski.AdoptionView import AdoptionView\n",
    "\n",
    "import re"
   ]
  },
  {
   "cell_type": "code",
   "execution_count": 2,
   "metadata": {
    "collapsed": false
   },
   "outputs": [],
   "source": [
    "## Obtain Malikowski adoption data for the available years\n",
    "\n",
    "# Define how to get the data for each year\n",
    "# - list of strings to be used in SQL query matching moodle.shortnames\n",
    "# - if different shortnames were used, could be used to do this comparison between disciplines\n",
    "#   or other groups of courses\n",
    "years = [ '%%_2012_%%','%%_2013_%%','%%_2014_%%','%%_2015_%%']\n",
    "\n",
    "# Gather data for each year\n",
    "yearAdoption = []\n",
    "for year in years:\n",
    "    title = re.sub( r'_%%', \" \", re.sub( r'%%_', \"\", year))\n",
    "    print ('Getting model for term ' + title)\n",
    "    \n",
    "    model = Adoption(title);\n",
    "    model.getCoursesShortname( year )\n",
    "    \n",
    "    yearAdoption.append( model)"
   ]
  },
  {
   "cell_type": "code",
   "execution_count": 3,
   "metadata": {
    "collapsed": true
   },
   "outputs": [],
   "source": [
    "## Show a box plot representation\n",
    "#  - but do it one category at a time \n",
    "view = AdoptionView()"
   ]
  },
  {
   "cell_type": "markdown",
   "metadata": {},
   "source": [
    "### Content"
   ]
  },
  {
   "cell_type": "code",
   "execution_count": 6,
   "metadata": {
    "collapsed": false,
    "scrolled": false
   },
   "outputs": [],
   "source": [
    "category = { 'content':1}\n",
    "#-- Show the 2009 equivalent graph\n",
    "view.listCategoryPercentage(yearAdoption,category)\n",
    "#-- Show a graph that shows the number of different features of each category used by each course\n",
    "view.listCategoryComparison(yearAdoption,category)"
   ]
  },
  {
   "cell_type": "markdown",
   "metadata": {},
   "source": [
    "#### Observations - Content\n",
    "\n",
    "**Courses with no content features?**\n",
    "\n",
    "In this sample, it appears that significant numbers of the courses are not using any content-based feature. This is a strange finding and would require more digging to \n",
    "\n",
    "1. identify if this is a flaw in the methodology (not picking up some content features - eg. announcements) or \n",
    "1. perhaps in selecting the courses (e.g. some of these courses are test courses not real courses)\n",
    "\n",
    "**Huge numbers of content features**\n",
    "\n",
    "Some courses having 200+ different content features. Implying quite a lot, but also indicative of what is being counted as content (e.g. labels)\n",
    "\n",
    "To do (this could be a finding for on-going work that is mentioned in the paper)\n",
    "\n",
    "1. Explore ways to visualise the specific breakdown of content features and show quantity\n",
    "\n",
    "**Descriptive statistics**\n",
    "\n",
    "The [box plots allow a level of descriptive statistics](http://www.physics.csbsju.edu/stats/box2.html) to talk about the data. Could be useful for the paper.Perhaps the table summarising the median etc could be used.\n",
    "\n",
    "Apparently, a [t test](http://www.physics.csbsju.edu/stats/t-test.html) can be used to compare any real difference between two collections.  Suggesting you could run a t-test between two different years (or other groups of courses) to determine if they are fundamentally different."
   ]
  },
  {
   "cell_type": "markdown",
   "metadata": {},
   "source": [
    "## Communication"
   ]
  },
  {
   "cell_type": "code",
   "execution_count": 5,
   "metadata": {
    "collapsed": false
   },
   "outputs": [],
   "source": [
    "category = { 'communication':1}\n",
    "#-- Show the 2009 equivalent graph\n",
    "view.listCategoryPercentage(yearAdoption,category)\n",
    "#-- Show a graph that shows the number of different features of each category used by each course\n",
    "view.listCategoryComparison(yearAdoption,category)"
   ]
  },
  {
   "cell_type": "markdown",
   "metadata": {},
   "source": [
    "### Observations - communication\n",
    "\n",
    "**100% adoption**\n",
    "\n",
    "Could this be the influence of the announcements forum?  What if this was removed? Would it have content pick up, but communication drop off?\n",
    "\n",
    "**Descriptive statistics**\n",
    "\n",
    "The median number of communication features in courses is consistently 4 across the years (post 2012). i.e. 50% of courses have 4 or less communication features.  Including a number here that have 0\n",
    "\n",
    "To do:\n",
    "\n",
    "1. How many courses have 0 communication features?\n",
    "1. What are the 4 communication features that are common across these courses?\n",
    "1. Is there any impact on student usage of communication features between courses that have larger numbers of communication features?\n",
    "1. What, if any, are the commonalities/differences within and between the median and above median courses?"
   ]
  },
  {
   "cell_type": "markdown",
   "metadata": {},
   "source": [
    "## Assessment"
   ]
  },
  {
   "cell_type": "code",
   "execution_count": 7,
   "metadata": {
    "collapsed": false
   },
   "outputs": [],
   "source": [
    "category = { 'assessment':1}\n",
    "#-- Show the 2009 equivalent graph\n",
    "view.listCategoryPercentage(yearAdoption,category)\n",
    "#-- Show a graph that shows the number of different features of each category used by each course\n",
    "view.listCategoryComparison(yearAdoption,category)"
   ]
  },
  {
   "cell_type": "markdown",
   "metadata": {},
   "source": [
    "### Observations on assessment\n",
    "\n",
    "**Jump in assessment in 2015**\n",
    "\n",
    "This appears to align with the move from EASE (USQ specific) to the Moodle assignment submission system that year.\n",
    "\n",
    "Reinforcing the idea that this type of analysis (LMS specific) does not capture all of the necessary data.\n",
    "\n",
    "**Low median**\n",
    "\n",
    "Median # of assessment features was 2 in 2013 and 2014, but moved to 5 in 2015.\n",
    "\n",
    "1. Were quizzes the common 2 features in 2013/2014?\n",
    "1. What's the common number of assignments - 3?"
   ]
  },
  {
   "cell_type": "markdown",
   "metadata": {},
   "source": [
    "## CBI"
   ]
  },
  {
   "cell_type": "code",
   "execution_count": 8,
   "metadata": {
    "collapsed": false
   },
   "outputs": [],
   "source": [
    "category = { 'cbi':1}\n",
    "#-- Show the 2009 equivalent graph\n",
    "view.listCategoryPercentage(yearAdoption,category)\n",
    "#-- Show a graph that shows the number of different features of each category used by each course\n",
    "view.listCategoryComparison(yearAdoption,category)"
   ]
  },
  {
   "cell_type": "markdown",
   "metadata": {},
   "source": [
    "### Comments on CBI\n",
    "\n",
    "**Very low use**\n",
    "\n",
    "Moodle really only has a the lesson feature that we've classed as CBI.  More limited than other categories - at least compared to content.\n",
    "\n",
    "\n",
    "**Missing box points**\n",
    "\n",
    "The box plot on Jupyter doesn't wish to show the points.  It will when exported to plot.ly"
   ]
  },
  {
   "cell_type": "code",
   "execution_count": null,
   "metadata": {
    "collapsed": true
   },
   "outputs": [],
   "source": []
  }
 ],
 "metadata": {
  "git": {
   "suppress_outputs": true
  },
  "kernelspec": {
   "display_name": "Python 3",
   "language": "python",
   "name": "python3"
  },
  "language_info": {
   "codemirror_mode": {
    "name": "ipython",
    "version": 3
   },
   "file_extension": ".py",
   "mimetype": "text/x-python",
   "name": "python",
   "nbconvert_exporter": "python",
   "pygments_lexer": "ipython3",
   "version": "3.4.4"
  },
  "widgets": {
   "state": {},
   "version": "1.1.2"
  }
 },
 "nbformat": 4,
 "nbformat_minor": 0
}