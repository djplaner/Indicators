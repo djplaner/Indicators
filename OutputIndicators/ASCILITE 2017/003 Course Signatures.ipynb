{
 "cells": [
  {
   "cell_type": "markdown",
   "metadata": {},
   "source": [
    "## About\n",
    "\n",
    "The first two sets of graphs have aggregated data for a whole year.  The aim here is to explore the value of the course signatures - using Usage data - as a useful way of identifying potentially interesting patterns.\n",
    "\n",
    "i.e. by showing separate Malikowski course signatures for all courses, can interesting things be found.\n",
    "\n",
    "Findings from the visualisation below\n",
    "\n",
    "- Groups of courses heavy on quizzes above anything else\n",
    "- Some courses (one in particular) very have on content\n",
    "- A fairly long tail in terms of low usage"
   ]
  },
  {
   "cell_type": "code",
   "execution_count": 1,
   "metadata": {
    "collapsed": false
   },
   "outputs": [],
   "source": [
    "## get the necessary modules\n",
    "import plotly\n",
    "plotly.offline.init_notebook_mode()\n",
    "\n",
    "from Malikowski.Usage import Usage\n",
    "from Malikowski.AdoptionView import AdoptionView\n",
    "\n",
    "import re"
   ]
  },
  {
   "cell_type": "code",
   "execution_count": 5,
   "metadata": {
    "collapsed": false
   },
   "outputs": [],
   "source": [
    "## Obtain Malikowski adoption data for the available years\n",
    "\n",
    "# Define how to get the data for each year\n",
    "# - list of strings to be used in SQL query matching moodle.shortnames\n",
    "# - if different shortnames were used, could be used to do this comparison between disciplines\n",
    "#   or other groups of courses\n",
    "term = '%%_2015_2%%' #,'%%_2013_%%','%%_2014_%%','%%_2015_%%']\n",
    "\n",
    "model = Usage(\"2015 S2\");\n",
    "model.getCoursesShortname( term )\n",
    "#model.anonymiseCourseNames()\n",
    "model.addStudents()\n",
    "model.clicksPerStudent()\n",
    "\n",
    "view = AdoptionView(model)"
   ]
  },
  {
   "cell_type": "code",
   "execution_count": 6,
   "metadata": {
    "collapsed": false
   },
   "outputs": [],
   "source": [
    "## sort the data in descending order\n",
    "model.malikowski = model.malikowski.sort_values( by=['content','communication'], ascending=[False, False])\n",
    "#df = model.malikowski\n",
    "\n",
    "#df.assign(f = df['content'] + df['communication'] + df['assessment'] + df['cbi']).sort_values('f').drop('f', axis=1)\n",
    "\n",
    "#model.malikowski = df"
   ]
  },
  {
   "cell_type": "code",
   "execution_count": 7,
   "metadata": {
    "collapsed": false
   },
   "outputs": [],
   "source": [
    "\n",
    "\n",
    "view.stackedBarHorizontal()"
   ]
  },
  {
   "cell_type": "code",
   "execution_count": null,
   "metadata": {
    "collapsed": true
   },
   "outputs": [],
   "source": []
  }
 ],
 "metadata": {
  "git": {
   "suppress_outputs": true
  },
  "kernelspec": {
   "display_name": "Python 3",
   "language": "python",
   "name": "python3"
  },
  "language_info": {
   "codemirror_mode": {
    "name": "ipython",
    "version": 3
   },
   "file_extension": ".py",
   "mimetype": "text/x-python",
   "name": "python",
   "nbconvert_exporter": "python",
   "pygments_lexer": "ipython3",
   "version": "3.4.4"
  },
  "widgets": {
   "state": {},
   "version": "1.1.2"
  }
 },
 "nbformat": 4,
 "nbformat_minor": 0
}