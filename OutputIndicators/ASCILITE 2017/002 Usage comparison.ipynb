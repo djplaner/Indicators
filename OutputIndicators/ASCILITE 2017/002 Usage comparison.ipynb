{
 "cells": [
  {
   "cell_type": "markdown",
   "metadata": {},
   "source": [
    "## About\n",
    "The graphs in [the original Indicators paper](https://indicatorsproject.wordpress.com/2009/10/09/the-indicators-project-identifying-effective-learning-adoption-activity-grades-and-external-factors/) that allow comparison of LMS feature adoption longitudinally across a number of years using the Malikowski model, are based on feature adoption. i.e. if a feature has been added to the course.\n",
    "\n",
    "It would appear more useful to focus on actual usage of these features, rather than adoption. This notebook aims to create a similar comparison of features across the years using the Malikowski model, but this time based on clicks per student.\n",
    "\n",
    "**Notes**\n",
    "\n",
    "Interestingly, all I had to change here from the Feature Adoption notebook was\n",
    "\n",
    "- replace the import of *Adoption* with *Usage*\n",
    "- add the clicks per students calls\n",
    "- remove the use of the percentage chart (as that isn't supported with click usage)\n",
    "\n",
    "Problems\n",
    "\n",
    "- I've only got usage data for 2015 and only for semester 2"
   ]
  },
  {
   "cell_type": "code",
   "execution_count": 1,
   "metadata": {
    "collapsed": false
   },
   "outputs": [],
   "source": [
    "## get the necessary modules\n",
    "import plotly\n",
    "plotly.offline.init_notebook_mode()\n",
    "\n",
    "from Malikowski.Usage import Usage\n",
    "from Malikowski.AdoptionView import AdoptionView\n",
    "\n",
    "import re"
   ]
  },
  {
   "cell_type": "code",
   "execution_count": 2,
   "metadata": {
    "collapsed": false
   },
   "outputs": [],
   "source": [
    "## Obtain Malikowski adoption data for the available years\n",
    "\n",
    "# Define how to get the data for each year\n",
    "# - list of strings to be used in SQL query matching moodle.shortnames\n",
    "# - if different shortnames were used, could be used to do this comparison between disciplines\n",
    "#   or other groups of courses\n",
    "years = [ '%%_2015_2%%' ] #,'%%_2013_%%','%%_2014_%%','%%_2015_%%']\n",
    "\n",
    "# Gather data for each year\n",
    "yearAdoption = []\n",
    "for year in years:\n",
    "    title = re.sub( r'_%%', \" \", re.sub( r'%%_', \"\", year))\n",
    "    print ('Getting model for term ' + title)\n",
    "    \n",
    "    model = Usage(title);\n",
    "    model.getCoursesShortname( year )\n",
    "    model.addStudents()\n",
    "    model.clicksPerStudent()\n",
    "    \n",
    "    yearAdoption.append( model)"
   ]
  },
  {
   "cell_type": "code",
   "execution_count": 3,
   "metadata": {
    "collapsed": false
   },
   "outputs": [],
   "source": [
    "## Show a box plot representation\n",
    "#  - but do it one category at a time \n",
    "view = AdoptionView()\n"
   ]
  },
  {
   "cell_type": "markdown",
   "metadata": {},
   "source": [
    "### Content"
   ]
  },
  {
   "cell_type": "code",
   "execution_count": 4,
   "metadata": {
    "collapsed": false,
    "scrolled": false
   },
   "outputs": [],
   "source": [
    "category = { 'content':1}\n",
    "#-- Show the 2009 equivalent graph\n",
    "#view.listCategoryPercentage(yearAdoption,category)\n",
    "#-- Show a graph that shows the number of different features of each category used by each course\n",
    "view.listCategoryComparison(yearAdoption,category)"
   ]
  },
  {
   "cell_type": "markdown",
   "metadata": {},
   "source": [
    "#### Observations - Content\n",
    "\n",
    "Given only usage data for S2 using new Moodle system.\n",
    "\n",
    "There is a median of 46 clicks per student on content!!  That's low.   Compare that with the % adoption.  Will be interesting to see communication.\n",
    "\n",
    "But there are other courses with 500+ clicks per student and one with 2000+ (and that's mine)\n",
    "\n",
    "To do\n",
    "\n",
    "- Be able to dig down to see what LMS features are getting all these clicks\n",
    "- Compare the courses that use the Book module with those that don't (the book potentially generates more content clicks)\n",
    "- Also interesting to see if adding the announcements forums to content would make a difference\n",
    "- Be able to see the each students clicks for a course represented like this to see the variability\n",
    "- See the clicks per student on a per week of term basis."
   ]
  },
  {
   "cell_type": "code",
   "execution_count": 12,
   "metadata": {
    "collapsed": false
   },
   "outputs": [],
   "source": [
    "# check to see if there's a row with content > 2000\n",
    "# yearAdoption[0].malikowski['content'] > 2000).any()\n",
    "# display that row - then use the course \n",
    "yearAdoption[0].malikowski.loc[ yearAdoption[0].malikowski['content'] > 2000]"
   ]
  },
  {
   "cell_type": "markdown",
   "metadata": {},
   "source": [
    "## Communication"
   ]
  },
  {
   "cell_type": "code",
   "execution_count": 5,
   "metadata": {
    "collapsed": false
   },
   "outputs": [],
   "source": [
    "category = { 'communication':1}\n",
    "#-- Show the 2009 equivalent graph\n",
    "#view.listCategoryPercentage(yearAdoption,category)\n",
    "#-- Show a graph that shows the number of different features of each category used by each course\n",
    "view.listCategoryComparison(yearAdoption,category)"
   ]
  },
  {
   "cell_type": "markdown",
   "metadata": {},
   "source": [
    "### Observations - communication\n",
    "\n",
    "Median clicks per student for communication (~63) is higher than content (~36).\n",
    "\n",
    "Again high numbers of clicks - 1500+.  That's 115+ clicks per week (13 week semester)"
   ]
  },
  {
   "cell_type": "markdown",
   "metadata": {},
   "source": [
    "## Assessment"
   ]
  },
  {
   "cell_type": "code",
   "execution_count": 6,
   "metadata": {
    "collapsed": false
   },
   "outputs": [],
   "source": [
    "category = { 'assessment':1}\n",
    "#-- Show the 2009 equivalent graph\n",
    "#view.listCategoryPercentage(yearAdoption,category)\n",
    "#-- Show a graph that shows the number of different features of each category used by each course\n",
    "view.listCategoryComparison(yearAdoption,category)"
   ]
  },
  {
   "cell_type": "markdown",
   "metadata": {},
   "source": [
    "### Observations on assessment\n",
    "\n",
    "Wow.  Median clicks is 83, higher again.  But there's also a outlier on 7000+  What is that?  Exclude that and it would reduce a lot\n",
    "\n",
    "To do \n",
    "\n",
    "- Identify and then exclude the outlier\n",
    "> See python below to extract it and # of students. Using database found that there were 41K+ clicks on a quiz. And more python to show only 6 students\n",
    "> This is an example where my cute use of SQL to get students doesn't cover all cases"
   ]
  },
  {
   "cell_type": "markdown",
   "metadata": {},
   "source": [
    "## CBI"
   ]
  },
  {
   "cell_type": "code",
   "execution_count": 9,
   "metadata": {
    "collapsed": false
   },
   "outputs": [],
   "source": [
    "category = { 'cbi':1}\n",
    "#-- Show the 2009 equivalent graph\n",
    "#view.listCategoryPercentage(yearAdoption,category)\n",
    "#-- Show a graph that shows the number of different features of each category used by each course\n",
    "view.listCategoryComparison(yearAdoption,category)"
   ]
  },
  {
   "cell_type": "markdown",
   "metadata": {},
   "source": [
    "### Comments on CBI\n",
    "\n",
    "There's an outlier here with 367 clicks per student.  Heavy usage of the lesson module by the looks.\n",
    "\n",
    "Essentially looks like no-one else is really using it."
   ]
  },
  {
   "cell_type": "code",
   "execution_count": 13,
   "metadata": {
    "collapsed": false
   },
   "outputs": [],
   "source": [
    "yearAdoption[0].malikowski.loc[ yearAdoption[0].malikowski['cbi'] > 300]"
   ]
  },
  {
   "cell_type": "code",
   "execution_count": null,
   "metadata": {
    "collapsed": true
   },
   "outputs": [],
   "source": []
  }
 ],
 "metadata": {
  "git": {
   "suppress_outputs": true
  },
  "kernelspec": {
   "display_name": "Python 3",
   "language": "python",
   "name": "python3"
  },
  "language_info": {
   "codemirror_mode": {
    "name": "ipython",
    "version": 3
   },
   "file_extension": ".py",
   "mimetype": "text/x-python",
   "name": "python",
   "nbconvert_exporter": "python",
   "pygments_lexer": "ipython3",
   "version": "3.4.4"
  },
  "widgets": {
   "state": {},
   "version": "1.1.2"
  }
 },
 "nbformat": 4,
 "nbformat_minor": 0
}