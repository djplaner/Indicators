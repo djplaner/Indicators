{
 "cells": [
  {
   "cell_type": "code",
   "execution_count": 1,
   "metadata": {
    "collapsed": false
   },
   "outputs": [],
   "source": [
    "# Some simple first steps\n",
    "# - initially this is just some psuedo code to be slowly refined\n",
    "\n",
    "from Malikowski.Adoption import Adoption\n",
    "\n",
    "#courses = [6082]\n",
    "#courses = []\n",
    "courses = [ 6082, 4688, 4381]\n",
    "model = Adoption()\n",
    "\n",
    "model.getCourses( courses )\n",
    "\n",
    "\n",
    "#-- get a period - year or period\n",
    "#model = Adoption.getPeriod( \"2015_1\")\n",
    "\n",
    "#-- get a list of courses\n",
    "# EDC3100: 2015_1 2014_2 2014_1\n",
    "#courses = [ 6082, 4688, 4381]\n",
    "\n",
    "#-- just dump the data frame\n",
    "model.df"
   ]
  },
  {
   "cell_type": "code",
   "execution_count": 2,
   "metadata": {
    "collapsed": false
   },
   "outputs": [],
   "source": [
    "group = model.df.groupby(['course','shortname','fullname','malikowski']).sum().reset_index()\n",
    "group\n",
    "#-- get list of course / malikowski that is missing\n",
    "#-- open empty array\n",
    "missing=[]\n",
    "allCategories=['content','communication','assessment','evaluation','cbi']\n",
    "courses = group.course.unique()\n",
    "   #-- for each course in the data frame\n",
    "for course in courses:\n",
    "    print ( \"course is \" + str(course))\n",
    "    present=group.loc[group['course'] == course, ['malikowski','shortname','fullname']]\n",
    "    print(present)\n",
    "    presentList = present['malikowski'].tolist()\n",
    "    print(allCategories)\n",
    "    print(presentList)\n",
    "    # get list of unique malikowski for the course\n",
    "    notThere = set(allCategories) - set(presentList)\n",
    "    print(notThere)                \n",
    "\n",
    "    # add rows to group for the missing elements\n",
    "    # courseid, shortname, fullname, malikowski, x, percent\n",
    "    # -- course, present.iloc[0].shortname, present.iloc[0].fullname, 0, 0\n",
    "    \n",
    "    # identify those not there\n",
    "    #-- if not find each of the malikowski categories add to array\n",
    "        \n",
    "#-- add empty entries\n",
    "#missingDF = DataFrame(missing)\n"
   ]
  },
  {
   "cell_type": "code",
   "execution_count": 3,
   "metadata": {
    "collapsed": false
   },
   "outputs": [],
   "source": [
    "courses = group.course.unique()\n",
    "print(courses)"
   ]
  },
  {
   "cell_type": "code",
   "execution_count": 4,
   "metadata": {
    "collapsed": false
   },
   "outputs": [],
   "source": [
    "#model.malikowskiCourseDF\n",
    "\n",
    "model.malikowskiGroup"
   ]
  },
  {
   "cell_type": "code",
   "execution_count": 5,
   "metadata": {
    "collapsed": false
   },
   "outputs": [],
   "source": [
    "#next = model.malikowskiGroup.pivot_table('%',['course','shortname','fullname'],'malikowski')\n",
    "#next\n",
    "next = model.malikowskiGroup.pivot_table('x',['course','shortname','fullname'],'malikowski')\n",
    "next.reset_index(drop=False,inplace=True)\n",
    "next"
   ]
  },
  {
   "cell_type": "code",
   "execution_count": 6,
   "metadata": {
    "collapsed": false
   },
   "outputs": [],
   "source": [
    "import matplotlib.pyplot as plt"
   ]
  },
  {
   "cell_type": "code",
   "execution_count": 7,
   "metadata": {
    "collapsed": true
   },
   "outputs": [],
   "source": [
    "import matplotlib\n",
    "matplotlib.style.use('ggplot')\n",
    "%matplotlib inline"
   ]
  },
  {
   "cell_type": "code",
   "execution_count": 8,
   "metadata": {
    "collapsed": false
   },
   "outputs": [],
   "source": [
    "final = next.drop( ['course','fullname'], axis=1)"
   ]
  },
  {
   "cell_type": "code",
   "execution_count": 9,
   "metadata": {
    "collapsed": false
   },
   "outputs": [],
   "source": [
    "\n",
    "final.plot.bar(stacked=True)"
   ]
  },
  {
   "cell_type": "code",
   "execution_count": 10,
   "metadata": {
    "collapsed": false
   },
   "outputs": [],
   "source": [
    "# adapting some stuff from http://www.randalolson.com/2014/06/28/how-to-make-beautiful-data-visualizations-in-python-with-matplotlib/\n",
    "f, ax1 = plt.subplots(1,figsize=(12,9))\n",
    "\n",
    "bar_width = 0.75\n",
    "\n",
    "bar_l = [i+1 for i in range(len(final['assessment']))]\n",
    "\n",
    "tick_pos = [i+(bar_width/2) for i in bar_l]\n",
    "\n",
    "ax1.bar( bar_l, final['content'], label='content',\n",
    "        width=bar_width,alpha=0.5,color='#F4561D')\n",
    "ax1.bar( bar_l, final['communication'], label='communication',bottom=final['content'],\n",
    "        width=bar_width,alpha=0.5,color='#F1911E')\n",
    "ax1.bar( bar_l, final['assessment'], label='assessment',\n",
    "        bottom=[i+j for i,j in zip(final['content'],final['communication'])],\n",
    "        width=bar_width,alpha=0.5,color='#F1BD1A')\n",
    "#ax1.bar( bar_l, final['evaluation'], label='evaluation',\n",
    " #       bottom=[i+j for i,j in zip(final['content'],final['communication'],final['assessment'])],\n",
    "  #      width=bar_width,alpha=0.5,color='#FF0000')\n",
    "\n",
    "plt.xticks( tick_pos, final['shortname'])\n",
    "ax1.set_ylabel( \"Category adoption\")\n",
    "ax1.set_xlabel( \"EDC3100 offering\")\n",
    "plt.legend(loc='upper left')\n",
    "\n",
    "#plt.plot()\n",
    "plt.xlim([min(tick_pos)-bar_width, max(tick_pos)+bar_width])"
   ]
  },
  {
   "cell_type": "code",
   "execution_count": null,
   "metadata": {
    "collapsed": true
   },
   "outputs": [],
   "source": []
  }
 ],
 "metadata": {
  "git": {
   "suppress_outputs": true
  },
  "kernelspec": {
   "display_name": "Python 3",
   "language": "python",
   "name": "python3"
  },
  "language_info": {
   "codemirror_mode": {
    "name": "ipython",
    "version": 3
   },
   "file_extension": ".py",
   "mimetype": "text/x-python",
   "name": "python",
   "nbconvert_exporter": "python",
   "pygments_lexer": "ipython3",
   "version": "3.4.4"
  },
  "widgets": {
   "state": {},
   "version": "1.1.2"
  }
 },
 "nbformat": 4,
 "nbformat_minor": 0
}