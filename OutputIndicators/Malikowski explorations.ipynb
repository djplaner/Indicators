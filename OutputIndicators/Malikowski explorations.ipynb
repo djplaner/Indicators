{
 "cells": [
  {
   "cell_type": "code",
   "execution_count": 7,
   "metadata": {
    "collapsed": false
   },
   "outputs": [],
   "source": [
    "\n",
    "# Some simple first steps\n",
    "# - Aim is that notebook analysis can start with this simple code\n",
    "\n",
    "from Malikowski.Adoption import Adoption\n",
    "\n",
    "#-- specify the courses you want to analyse\n",
    "#   Option to include (maybe)\n",
    "#   - course = []  pass a list of courses\n",
    "#   - PERIOD = []  pass a list of terms/periods e.g. [ 2015_1 2014_3 ]\n",
    "#   - nothing - get all of them\n",
    "# - ALTERNATIVE\n",
    "#   Just support list of courses.  Use other course specific means to identify the specific\n",
    "#   list of courses you're interested in for any analysis.\n",
    "\n",
    "#courses = [6082]\n",
    "#courses = []\n",
    "courses = [ 6082, 4688, 4381]\n",
    "\n",
    "#-- get the data\n",
    "#   Eventually there will be different classess\n",
    "#   - Adoption - standard adoption of features - from course_module table\n",
    "#   - Usage - based on clicks of students\n",
    "#   - ExtendedUsage - the extension to Malikowski where we put in extras\n",
    "#          e.g. staff/student communication/content etc\n",
    "# ...\n",
    "model = Adoption()\n",
    "\n",
    "model.getCourses( courses )\n",
    "\n",
    "#-- Generates a range of data members\n",
    "#   - df - (interim) data frame rows = count for 1 malikowski category for a course.\n",
    "#   - malikowski - data frame with all course malikowski usage in one row\n",
    "#model.df\n",
    "model.malikowski"
   ]
  },
  {
   "cell_type": "code",
   "execution_count": 8,
   "metadata": {
    "collapsed": false
   },
   "outputs": [],
   "source": [
    "\n",
    "from Malikowski.AdoptionView import AdoptionView\n",
    "plotly.offline.init_notebook_mode()\n",
    "\n",
    "view = AdoptionView(model)\n",
    "view.stackedBar()"
   ]
  },
  {
   "cell_type": "code",
   "execution_count": null,
   "metadata": {
    "collapsed": true
   },
   "outputs": [],
   "source": []
  }
 ],
 "metadata": {
  "git": {
   "suppress_outputs": true
  },
  "kernelspec": {
   "display_name": "Python 3",
   "language": "python",
   "name": "python3"
  },
  "language_info": {
   "codemirror_mode": {
    "name": "ipython",
    "version": 3
   },
   "file_extension": ".py",
   "mimetype": "text/x-python",
   "name": "python",
   "nbconvert_exporter": "python",
   "pygments_lexer": "ipython3",
   "version": "3.4.4"
  },
  "widgets": {
   "state": {},
   "version": "1.1.2"
  }
 },
 "nbformat": 4,
 "nbformat_minor": 0
}