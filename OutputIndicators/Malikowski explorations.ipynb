{
 "cells": [
  {
   "cell_type": "code",
   "execution_count": 1,
   "metadata": {
    "collapsed": false
   },
   "outputs": [],
   "source": [
    "# Some simple first steps\n",
    "# - Aim is that notebook analysis can start with this simple code\n",
    "\n",
    "from Malikowski.Adoption import Adoption\n",
    "\n",
    "#-- specify the courses you want to analyse\n",
    "#   Option to include (maybe)\n",
    "#   - course = []  pass a list of courses\n",
    "#   - PERIOD = []  pass a list of terms/periods e.g. [ 2015_1 2014_3 ]\n",
    "#   - nothing - get all of them\n",
    "# - ALTERNATIVE\n",
    "#   Just support list of courses.  Use other course specific means to identify the specific\n",
    "#   list of courses you're interested in for any analysis.\n",
    "\n",
    "#courses = [6082]\n",
    "#courses = []\n",
    "courses = [ 6082, 4688, 4381]\n",
    "\n",
    "#-- get the data\n",
    "#   Eventually there will be different classess\n",
    "#   - Adoption - standard adoption of features - from course_module table\n",
    "#   - Usage - based on clicks of students\n",
    "#   - ExtendedUsage - the extension to Malikowski where we put in extras\n",
    "#          e.g. staff/student communication/content etc\n",
    "# ...\n",
    "model = Adoption()\n",
    "\n",
    "model.getCourses( courses )\n",
    "\n",
    "#-- Generates a range of data members\n",
    "#   - df - data frame rows = count for 1 malikowski category for a course.\n",
    "#   - malikowskiGroup - possibly interim stage\n",
    "#   - malikowski - data frame with all course malikowski usage in one row\n",
    "model.df"
   ]
  },
  {
   "cell_type": "code",
   "execution_count": 2,
   "metadata": {
    "collapsed": false
   },
   "outputs": [],
   "source": [
    "model.malikowskiGroup"
   ]
  },
  {
   "cell_type": "code",
   "execution_count": 3,
   "metadata": {
    "collapsed": false
   },
   "outputs": [],
   "source": [
    "model.malikowski\n",
    "# (possible) Changes to do at this stage\n",
    "# - make sure that cbi and evaluation columns get added, even if 0\n",
    "# - maybe add percentage here (what about remove percentage above?)\n",
    "# - index this on course, not malikowski"
   ]
  },
  {
   "cell_type": "code",
   "execution_count": 4,
   "metadata": {
    "collapsed": false
   },
   "outputs": [],
   "source": [
    "#**************************************\n",
    "# Everything from here is exploration and updates\n",
    "# - some early visualisation experiments below\n",
    "\n",
    "\n",
    "group = model.df.groupby(['course','shortname','fullname','malikowski']).sum().reset_index()\n",
    "group = model.malikowskiGroup\n",
    "group"
   ]
  },
  {
   "cell_type": "code",
   "execution_count": 5,
   "metadata": {
    "collapsed": false
   },
   "outputs": [],
   "source": [
    "#*****\n",
    "# Add (0x,0%) rows to malikowski (via malikowskiGroup) for missing categories\n",
    "\n",
    "#-- get list of course / malikowski that is missing\n",
    "#-- open empty array\n",
    "missing=[]\n",
    "\n",
    "group = model.malikowskiGroup;\n",
    "#- get list of uniqe course ids\n",
    "courses = group.course.unique()\n",
    "\n",
    "#-- for each course in the data frame\n",
    "for course in courses:\n",
    "#    print ( \"course is \" + str(course))\n",
    "    # get data frame with the present malikowski categories for the current course\n",
    "    present=group.loc[group['course'] == course, ['malikowski','shortname','fullname']]\n",
    "    # grab the short/fullname\n",
    "    shortName = present.iloc[0].shortname\n",
    "    fullName = present.iloc[0].fullname\n",
    "    print(present)\n",
    "    # get a list of the malikowski categories for this course\n",
    "    presentList = present['malikowski'].tolist()\n",
    "    \n",
    "#    print(model.allCategories)\n",
    "#    print(presentList)\n",
    "    # get a list of categories not present for this course\n",
    "    notThere = list(set(model.allCategories) - set(presentList))\n",
    "#    print(notThere) \n",
    "\n",
    "    for cat in notThere:\n",
    "        # add rows to missing\n",
    "        row = { 'course':course,  'malikowski':cat, 'shortname':shortName, 'fullname':fullName,\n",
    "                'x':0, 'percent':0}\n",
    "        missing.append( row)\n",
    "            \n",
    "import pandas as pd\n",
    "#missingDF = DataFrame(missing)\n",
    "missing\n",
    "missingDF = pd.DataFrame(missing)\n",
    "missingDF"
   ]
  },
  {
   "cell_type": "code",
   "execution_count": 6,
   "metadata": {
    "collapsed": false
   },
   "outputs": [],
   "source": [
    "#model.malikowskiGroup = model.malikowskiGroup.append( missingDF)\n",
    "\n",
    "total = pd.concat( [model.malikowskiGroup,missingDF], axis=0 )\n",
    "total.reset_index(drop=True,inplace=True)\n",
    "total"
   ]
  },
  {
   "cell_type": "code",
   "execution_count": 7,
   "metadata": {
    "collapsed": false
   },
   "outputs": [],
   "source": [
    "#model.malikowskiCourseDF\n",
    "\n",
    "model.malikowskiGroup"
   ]
  },
  {
   "cell_type": "code",
   "execution_count": 8,
   "metadata": {
    "collapsed": false
   },
   "outputs": [],
   "source": [
    "#next = model.malikowskiGroup.pivot_table('%',['course','shortname','fullname'],'malikowski')\n",
    "#next\n",
    "#next = model.malikowskiGroup.pivot_table('x',['course','shortname','fullname'],'malikowski')\n",
    "#next.reset_index(drop=False,inplace=True)\n",
    "#next\n",
    "model.malikowski"
   ]
  },
  {
   "cell_type": "code",
   "execution_count": 9,
   "metadata": {
    "collapsed": false
   },
   "outputs": [],
   "source": [
    "import matplotlib.pyplot as plt"
   ]
  },
  {
   "cell_type": "code",
   "execution_count": 10,
   "metadata": {
    "collapsed": true
   },
   "outputs": [],
   "source": [
    "import matplotlib\n",
    "matplotlib.style.use('ggplot')\n",
    "%matplotlib inline"
   ]
  },
  {
   "cell_type": "code",
   "execution_count": 11,
   "metadata": {
    "collapsed": false
   },
   "outputs": [],
   "source": [
    "final = next.drop( ['course','fullname'], axis=1)"
   ]
  },
  {
   "cell_type": "code",
   "execution_count": null,
   "metadata": {
    "collapsed": false
   },
   "outputs": [],
   "source": [
    "\n",
    "final.plot.bar(stacked=True)"
   ]
  },
  {
   "cell_type": "code",
   "execution_count": null,
   "metadata": {
    "collapsed": false
   },
   "outputs": [],
   "source": [
    "# adapting some stuff from http://www.randalolson.com/2014/06/28/how-to-make-beautiful-data-visualizations-in-python-with-matplotlib/\n",
    "f, ax1 = plt.subplots(1,figsize=(12,9))\n",
    "\n",
    "bar_width = 0.75\n",
    "\n",
    "bar_l = [i+1 for i in range(len(final['assessment']))]\n",
    "\n",
    "tick_pos = [i+(bar_width/2) for i in bar_l]\n",
    "\n",
    "ax1.bar( bar_l, final['content'], label='content',\n",
    "        width=bar_width,alpha=0.5,color='#F4561D')\n",
    "ax1.bar( bar_l, final['communication'], label='communication',bottom=final['content'],\n",
    "        width=bar_width,alpha=0.5,color='#F1911E')\n",
    "ax1.bar( bar_l, final['assessment'], label='assessment',\n",
    "        bottom=[i+j for i,j in zip(final['content'],final['communication'])],\n",
    "        width=bar_width,alpha=0.5,color='#F1BD1A')\n",
    "#ax1.bar( bar_l, final['evaluation'], label='evaluation',\n",
    " #       bottom=[i+j for i,j in zip(final['content'],final['communication'],final['assessment'])],\n",
    "  #      width=bar_width,alpha=0.5,color='#FF0000')\n",
    "\n",
    "plt.xticks( tick_pos, final['shortname'])\n",
    "ax1.set_ylabel( \"Category adoption\")\n",
    "ax1.set_xlabel( \"EDC3100 offering\")\n",
    "plt.legend(loc='upper left')\n",
    "\n",
    "#plt.plot()\n",
    "plt.xlim([min(tick_pos)-bar_width, max(tick_pos)+bar_width])"
   ]
  },
  {
   "cell_type": "code",
   "execution_count": null,
   "metadata": {
    "collapsed": true
   },
   "outputs": [],
   "source": []
  }
 ],
 "metadata": {
  "git": {
   "suppress_outputs": true
  },
  "kernelspec": {
   "display_name": "Python 3",
   "language": "python",
   "name": "python3"
  },
  "language_info": {
   "codemirror_mode": {
    "name": "ipython",
    "version": 3
   },
   "file_extension": ".py",
   "mimetype": "text/x-python",
   "name": "python",
   "nbconvert_exporter": "python",
   "pygments_lexer": "ipython3",
   "version": "3.4.4"
  },
  "widgets": {
   "state": {},
   "version": "1.1.2"
  }
 },
 "nbformat": 4,
 "nbformat_minor": 0
}