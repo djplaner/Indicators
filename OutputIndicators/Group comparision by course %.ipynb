{
 "cells": [
  {
   "cell_type": "markdown",
   "metadata": {},
   "source": [
    "## About\n",
    "Aim here is to recreate **exactly** the graphs produced in [the original Indicators paper](https://indicatorsproject.wordpress.com/2009/10/09/the-indicators-project-identifying-effective-learning-adoption-activity-grades-and-external-factors/) that allow comparison of feature adoption longitudinally.\n",
    "\n",
    "In this case, the aim is to show a different graph for each category. That graph should show the percentage of the courses that adopted a particular feature."
   ]
  },
  {
   "cell_type": "code",
   "execution_count": 1,
   "metadata": {
    "collapsed": false
   },
   "outputs": [],
   "source": [
    "import plotly\n",
    "plotly.offline.init_notebook_mode()\n",
    "\n",
    "from Malikowski.Adoption import Adoption\n",
    "from Malikowski.AdoptionView import AdoptionView\n",
    "\n",
    "import re"
   ]
  },
  {
   "cell_type": "code",
   "execution_count": 2,
   "metadata": {
    "collapsed": false
   },
   "outputs": [],
   "source": [
    "#-- Going to create 6 separate groups of courses for specific terms\n",
    "terms = [ '%%_2012_2','%%_2013_1','%%_2013_2','%%_2014_1','%%_2014_2','%%_2015_1']\n",
    "\n",
    "# create a list with data for each of the 6 groups\n",
    "termAdoption = []\n",
    "for term in terms:\n",
    "    # show the title nicely\n",
    "    titleTerm = re.sub( r'%%_', \"\", term)    \n",
    "    # get the data\n",
    "    model = Adoption(titleTerm);\n",
    "    model.getCoursesShortname( term )\n",
    "    # add it to the list\n",
    "    termAdoption.append( model)\n"
   ]
  },
  {
   "cell_type": "code",
   "execution_count": 4,
   "metadata": {
    "collapsed": false
   },
   "outputs": [],
   "source": [
    "# show the graphs\n",
    "view=AdoptionView()\n",
    "# show graphs for all categories\n",
    "view.listCategoryPercentage(termAdoption)\n",
    "\n",
    "# show graphs for just some categories\n",
    "#category = { 'communication':1, 'assessment':1}\n",
    "#view.listCategoryPercentage(termAdoption,category)"
   ]
  },
  {
   "cell_type": "code",
   "execution_count": null,
   "metadata": {
    "collapsed": true
   },
   "outputs": [],
   "source": []
  }
 ],
 "metadata": {
  "git": {
   "suppress_outputs": true
  },
  "kernelspec": {
   "display_name": "Python 3",
   "language": "python",
   "name": "python3"
  },
  "language_info": {
   "codemirror_mode": {
    "name": "ipython",
    "version": 3
   },
   "file_extension": ".py",
   "mimetype": "text/x-python",
   "name": "python",
   "nbconvert_exporter": "python",
   "pygments_lexer": "ipython3",
   "version": "3.4.4"
  },
  "widgets": {
   "state": {},
   "version": "1.1.2"
  }
 },
 "nbformat": 4,
 "nbformat_minor": 0
}