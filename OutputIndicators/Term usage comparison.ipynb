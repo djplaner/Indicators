{
 "cells": [
  {
   "cell_type": "markdown",
   "metadata": {},
   "source": [
    "## About\n",
    "Aim here is to recreate (and improve significantly) the graphs produced in [the original Indicators paper](https://indicatorsproject.wordpress.com/2009/10/09/the-indicators-project-identifying-effective-learning-adoption-activity-grades-and-external-factors/) that allow comparison of feature adoption longitudinally"
   ]
  },
  {
   "cell_type": "code",
   "execution_count": 1,
   "metadata": {
    "collapsed": false
   },
   "outputs": [],
   "source": [
    "import plotly\n",
    "plotly.offline.init_notebook_mode()\n",
    "\n",
    "from Malikowski.Adoption import Adoption\n",
    "from Malikowski.AdoptionView import AdoptionView"
   ]
  },
  {
   "cell_type": "code",
   "execution_count": 2,
   "metadata": {
    "collapsed": false
   },
   "outputs": [],
   "source": [
    "#-- shortname wildcards to match courses in a given term\n",
    "terms = [ '%%_2012_2','%%_2013_1','%%_2013_2','%%_2014_1','%%_2014_2','%%_2015_1']\n",
    "# - 2012_1 gives some strange readings\n",
    "\n",
    "#terms = [ '%%_2012_2']\n",
    "model = Adoption();\n",
    "for term in terms:\n",
    "    model.getCoursesShortname( term )\n",
    "    numCourses = len(model.malikowski.index)\n",
    "    print( \"Term \" + term + \" has \" + str(numCourses))\n",
    "    \n",
    "    view = AdoptionView(model)\n",
    "    view.boxPlotComparison(title=term)\n",
    "#model.malikowski\n",
    "#model.df"
   ]
  },
  {
   "cell_type": "code",
   "execution_count": 3,
   "metadata": {
    "collapsed": false
   },
   "outputs": [],
   "source": [
    "#-- generate a simple horizontal chart to show all\n",
    "view = AdoptionView(model)\n",
    "view.stackedBarHorizontal()"
   ]
  },
  {
   "cell_type": "code",
   "execution_count": null,
   "metadata": {
    "collapsed": true
   },
   "outputs": [],
   "source": []
  }
 ],
 "metadata": {
  "git": {
   "suppress_outputs": true
  },
  "kernelspec": {
   "display_name": "Python 3",
   "language": "python",
   "name": "python3"
  },
  "language_info": {
   "codemirror_mode": {
    "name": "ipython",
    "version": 3
   },
   "file_extension": ".py",
   "mimetype": "text/x-python",
   "name": "python",
   "nbconvert_exporter": "python",
   "pygments_lexer": "ipython3",
   "version": "3.4.4"
  },
  "widgets": {
   "state": {},
   "version": "1.1.2"
  }
 },
 "nbformat": 4,
 "nbformat_minor": 0
}