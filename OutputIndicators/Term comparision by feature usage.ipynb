{
 "cells": [
  {
   "cell_type": "markdown",
   "metadata": {},
   "source": [
    "## About\n",
    "Aim here is to recreate (and improve significantly) the graphs produced in [the original Indicators paper](https://indicatorsproject.wordpress.com/2009/10/09/the-indicators-project-identifying-effective-learning-adoption-activity-grades-and-external-factors/) that allow comparison of feature usage (by MAV) longitudinally.\n",
    "\n",
    "This version explicitly aims to enable the comparison to be done by Malikowski category."
   ]
  },
  {
   "cell_type": "code",
   "execution_count": 1,
   "metadata": {
    "collapsed": false
   },
   "outputs": [],
   "source": [
    "import plotly\n",
    "plotly.offline.init_notebook_mode()\n",
    "\n",
    "from Malikowski.Usage import Usage\n",
    "from Malikowski.AdoptionView import AdoptionView\n",
    "\n",
    "import re"
   ]
  },
  {
   "cell_type": "code",
   "execution_count": 4,
   "metadata": {
    "collapsed": false
   },
   "outputs": [],
   "source": [
    "#-- shortname wildcards to match courses in a given term\n",
    "terms = [ '%%_2012_2','%%_2013_1','%%_2013_2','%%_2014_1','%%_2014_2','%%_2015_1']\n",
    "\n",
    "# List to put the data for each term in\n",
    "termAdoption = []\n",
    "for term in terms:\n",
    "    titleTerm = re.sub( r'_', \" \", re.sub( r'%%_', \"\", term))\n",
    "    print ('Getting model for term ' + titleTerm)\n",
    "    \n",
    "    model = Usage(titleTerm);\n",
    "    model.getCoursesShortname( term )\n",
    "    \n",
    "    termAdoption.append( model)\n",
    "\n",
    "#-- show a box plot \n",
    "view = AdoptionView()\n",
    "# for each Malikowski category\n",
    "#view.listCategoryComparison(termAdoption)\n",
    "\n",
    "# for some of the Malikowski categories\n",
    "category = { 'communication':1, 'assessment':1}\n",
    "view.listCategoryComparison(termAdoption )#,category)\n"
   ]
  },
  {
   "cell_type": "code",
   "execution_count": 3,
   "metadata": {
    "collapsed": true
   },
   "outputs": [],
   "source": [
    "from plotly.offline import download_plotlyjs, init_notebook_mode, plot, iplot\n",
    "import plotly.graph_objs as go"
   ]
  },
  {
   "cell_type": "code",
   "execution_count": null,
   "metadata": {
    "collapsed": true
   },
   "outputs": [],
   "source": []
  }
 ],
 "metadata": {
  "git": {
   "suppress_outputs": true
  },
  "kernelspec": {
   "display_name": "Python 3",
   "language": "python",
   "name": "python3"
  },
  "language_info": {
   "codemirror_mode": {
    "name": "ipython",
    "version": 3
   },
   "file_extension": ".py",
   "mimetype": "text/x-python",
   "name": "python",
   "nbconvert_exporter": "python",
   "pygments_lexer": "ipython3",
   "version": "3.4.4"
  },
  "widgets": {
   "state": {},
   "version": "1.1.2"
  }
 },
 "nbformat": 4,
 "nbformat_minor": 0
}